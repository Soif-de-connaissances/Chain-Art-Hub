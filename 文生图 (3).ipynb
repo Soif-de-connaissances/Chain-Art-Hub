{
 "cells": [
  {
   "cell_type": "code",
   "execution_count": 18,
   "id": "375f6f32",
   "metadata": {},
   "outputs": [],
   "source": [
    "from huggingface_hub import InferenceClient\n",
    "from PIL import Image\n",
    "\n",
    "# 初始化 InferenceClient，这里以 CompVis/stable-diffusion-v-1-4-original 模型为例\n",
    "client = InferenceClient('strangerzonehf/Flux-Enrich-Art-LoRA',)\n",
    "\n",
    "# 调用模型进行推理，这里以文本到图像的推理为例\n",
    "image = client.text_to_image(\"generate a pixel-style image, a running strong cow,\")\n",
    "\n",
    "#image.save(\"tiger_1.png\")\n",
    "\n",
    "image.show()"
   ]
  },
  {
   "cell_type": "code",
   "execution_count": null,
   "id": "0207a0e4",
   "metadata": {},
   "outputs": [],
   "source": []
  }
 ],
 "metadata": {
  "kernelspec": {
   "display_name": "Python 3 (ipykernel)",
   "language": "python",
   "name": "python3"
  },
  "language_info": {
   "codemirror_mode": {
    "name": "ipython",
    "version": 3
   },
   "file_extension": ".py",
   "mimetype": "text/x-python",
   "name": "python",
   "nbconvert_exporter": "python",
   "pygments_lexer": "ipython3",
   "version": "3.8.19"
  }
 },
 "nbformat": 4,
 "nbformat_minor": 5
}
